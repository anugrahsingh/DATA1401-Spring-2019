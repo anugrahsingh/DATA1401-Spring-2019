{
  "nbformat": 4,
  "nbformat_minor": 0,
  "metadata": {
    "colab": {
      "name": "Copy of Final.ipynb",
      "version": "0.3.2",
      "provenance": [],
      "include_colab_link": true
    }
  },
  "cells": [
    {
      "cell_type": "markdown",
      "metadata": {
        "id": "view-in-github",
        "colab_type": "text"
      },
      "source": [
        "<a href=\"https://colab.research.google.com/github/afarbin/DATA1401-Spring-2019/blob/master/Exams/Final/Final.ipynb\" target=\"_parent\"><img src=\"https://colab.research.google.com/assets/colab-badge.svg\" alt=\"Open In Colab\"/></a>"
      ]
    },
    {
      "cell_type": "markdown",
      "metadata": {
        "id": "Wd4lY8qe4jFv",
        "colab_type": "text"
      },
      "source": [
        "# Final Exam\n",
        "\n",
        "## Part 1: Coding Problems\n",
        "\n",
        "For the questions in this section, make sure test your implementations and demonstrate they work."
      ]
    },
    {
      "cell_type": "markdown",
      "metadata": {
        "id": "9f_ozYyZ4q6L",
        "colab_type": "text"
      },
      "source": [
        "### 1. *Tensor Dot Product*\n",
        "\n",
        "a. Implement a function `tensor_product(A,B)` that takes two rank-3 tensors (meaning each has three indicies, for example tensor $A$ has elements $a_{ijk}$ and represented as `a[i][j][k]` in python), and multiplies them using the following rule:\n",
        "\n",
        "$c_{ij} = \\sum_{k} a_{ijk} b_{kji}$\n",
        "\n",
        "assume the tensors are lists of lists of lists. Ensure that the dimensions of the incoming tensors are corrent (by using `len()`). "
      ]
    },
    {
      "cell_type": "code",
      "metadata": {
        "id": "yaDMjpo-7O7X",
        "colab_type": "code",
        "colab": {}
      },
      "source": [
        "# Answer Here"
      ],
      "execution_count": 0,
      "outputs": []
    },
    {
      "cell_type": "code",
      "metadata": {
        "id": "1gnU3xYj7pqd",
        "colab_type": "code",
        "colab": {}
      },
      "source": [
        "# Test Here"
      ],
      "execution_count": 0,
      "outputs": []
    },
    {
      "cell_type": "markdown",
      "metadata": {
        "id": "ETLqa5Xp7qEd",
        "colab_type": "text"
      },
      "source": [
        "b. Modify the example so it can take tensors that have `numpy`-like interface *and* lists of lists of lists. Hint: for simplicity, just recast the list-baesd input as a `numpy` tensor."
      ]
    },
    {
      "cell_type": "code",
      "metadata": {
        "id": "PxwjXZIi85l4",
        "colab_type": "code",
        "colab": {}
      },
      "source": [
        "# Answer Here"
      ],
      "execution_count": 0,
      "outputs": []
    },
    {
      "cell_type": "code",
      "metadata": {
        "id": "ZziI0spg87gM",
        "colab_type": "code",
        "colab": {}
      },
      "source": [
        "# Test Here"
      ],
      "execution_count": 0,
      "outputs": []
    },
    {
      "cell_type": "markdown",
      "metadata": {
        "id": "KoimsIbc89_J",
        "colab_type": "text"
      },
      "source": [
        "c. Now add additional optional argument to `tensor_product(A,B,axes)`, where `axes` is an interger $n$ indicating sum over the last $n$ axes of $A$ and the first $n$ axes of $B$ in order. The sizes of the corresponding axes must match. Note that the implementations above correspond to $n=1$, which should be the default. Note that $n=0$ corresponds to no sum at all."
      ]
    },
    {
      "cell_type": "code",
      "metadata": {
        "id": "qR_ctfI0-75S",
        "colab_type": "code",
        "colab": {}
      },
      "source": [
        "# Answer Here"
      ],
      "execution_count": 0,
      "outputs": []
    },
    {
      "cell_type": "code",
      "metadata": {
        "id": "sCFsTTJ5--lI",
        "colab_type": "code",
        "colab": {}
      },
      "source": [
        "# Test Here"
      ],
      "execution_count": 0,
      "outputs": []
    },
    {
      "cell_type": "markdown",
      "metadata": {
        "id": "HO76b-Gh_Akx",
        "colab_type": "text"
      },
      "source": [
        "d. Now extend your implementation to arbitrary rank tensors. This is meant to be hard, so come back to this question if you cannot figure it out quickly."
      ]
    },
    {
      "cell_type": "markdown",
      "metadata": {
        "id": "6wzBsYzyBxnt",
        "colab_type": "text"
      },
      "source": [
        "### 2. 4-Vectors\n",
        "\n",
        "\n",
        " In relativistic mechanics, the Energy and Momentum of particles are different in every frame, but obey $m^2=E^2-\\vec{p}^2$ or $E^2=\\vec{p}^2$ for massless particles, where we set the speed of light $c=1$. It is therefore convenient to express the Energy and Momentum of a particle as a 4-vector, for example in Euclidean coordiates: $p= (E,p_{x},p_{y},p_{z}) = (E,\\vec{p})$.\n",
        "\n",
        "\n",
        "a. Implement a new `four_vector` class that holds the 4 components of a 4-vector and implements:\n",
        "\n",
        "* A constructor that takes 0, 3, or 4 components as input. If 0 inputs, then the vector is $(0,0,0,0)$. If 3, then the vector is $(\\sqrt{p_x^2+p_y^2+p_z^2},p_x,p_y,p_z)$. If 4, then the vector is $E,p_x,p_y,p_z)$. Note that $E$ cannot be negative.\n",
        "\n",
        "* Adding two 4-vectors corresponds to adding the individual components.\n",
        "\n",
        "* Negating a 4-vector corresponds to just negating the last 3 components.\n",
        "\n",
        "* Multiplying two 4-vectors returns: $a \\cdot b = E^a E^b -p^a_x p^b_x-p^a_y p^b_y-p^a_z p^b_z$.\n",
        "\n",
        "* A function `mass()` returns the dot product of the vector with itself.\n",
        "\n",
        "\n"
      ]
    },
    {
      "cell_type": "code",
      "metadata": {
        "id": "eZlz0pBzAIf7",
        "colab_type": "code",
        "colab": {}
      },
      "source": [
        "# Answer Here"
      ],
      "execution_count": 0,
      "outputs": []
    },
    {
      "cell_type": "code",
      "metadata": {
        "id": "P55eOwxZExb2",
        "colab_type": "code",
        "colab": {}
      },
      "source": [
        "# Test Here"
      ],
      "execution_count": 0,
      "outputs": []
    },
    {
      "cell_type": "markdown",
      "metadata": {
        "id": "5QKc29BvIINA",
        "colab_type": "text"
      },
      "source": [
        "b. Another coordinate system that is used defines the following:\n",
        "\n",
        "* $p_T = p \\sin{\\theta}$  where $ p =\\sqrt{p_x^2+p_y^2+p_z^2}$, and $\\sin{\\theta} = \\sqrt{p_x^2+p_y^2}/p_z$\n",
        "\n",
        "* $\\eta= - \\ln{\\tan{\\theta/2}}$\n",
        "\n",
        "* $\\tan{\\phi} = p_x/p_y$\n",
        "\n",
        "Inverting these equations we get:\n",
        "\n",
        "* $p_x= p_T \\sin{\\phi}$\n",
        "* $p_y= p_T \\cos{\\phi}$\n",
        "* $\\theta = 2 \\tan^{-1}{e^{-\\eta}}$\n",
        "* $p_z = p_T \\sinh(\\theta)$\n",
        "\n",
        "\n",
        "Implement a \"setter\" function that takes this representation as input to set the 4-vector components."
      ]
    },
    {
      "cell_type": "code",
      "metadata": {
        "id": "hMY3JRe5BveT",
        "colab_type": "code",
        "colab": {}
      },
      "source": [
        ""
      ],
      "execution_count": 0,
      "outputs": []
    },
    {
      "cell_type": "markdown",
      "metadata": {
        "id": "G7SGngv1FIJw",
        "colab_type": "text"
      },
      "source": [
        "## Part 2: Data Science\n",
        "\n",
        "We will work here with the other dataset from the paper used in lab 9. You can refer back to that lab for whatever you need. \n",
        "\n",
        "a. Read the description of the dataset (here)[https://archive.ics.uci.edu/ml/datasets/HIGGS] and  download and unzip the dataset (https://archive.ics.uci.edu/ml/machine-learning-databases/00280/HIGGS.csv.gz) using `wget` and `gunzip`. "
      ]
    },
    {
      "cell_type": "code",
      "metadata": {
        "id": "4aRJO8ZQFYfF",
        "colab_type": "code",
        "colab": {}
      },
      "source": [
        ""
      ],
      "execution_count": 0,
      "outputs": []
    },
    {
      "cell_type": "markdown",
      "metadata": {
        "id": "71XDvU2BGaYV",
        "colab_type": "text"
      },
      "source": [
        "b. Load the dataset into a tensor. Compare distributions of signal and background for each variable."
      ]
    },
    {
      "cell_type": "code",
      "metadata": {
        "id": "DvHpEpWkGm1e",
        "colab_type": "code",
        "colab": {}
      },
      "source": [
        ""
      ],
      "execution_count": 0,
      "outputs": []
    },
    {
      "cell_type": "markdown",
      "metadata": {
        "id": "mmwbCJilGn70",
        "colab_type": "text"
      },
      "source": [
        "c. Use scikit-learn to train and compare ROC curves and AUC values for 3 classifiers."
      ]
    },
    {
      "cell_type": "code",
      "metadata": {
        "id": "3F99mD3jHeiW",
        "colab_type": "code",
        "colab": {}
      },
      "source": [
        ""
      ],
      "execution_count": 0,
      "outputs": []
    },
    {
      "cell_type": "markdown",
      "metadata": {
        "id": "Sc37Kp5GHiPs",
        "colab_type": "text"
      },
      "source": [
        "d. Find the optimal (most significant) cut value for each classifier assuming 100 signal and 1000 background events."
      ]
    },
    {
      "cell_type": "code",
      "metadata": {
        "id": "cCRFo0N7HgTP",
        "colab_type": "code",
        "colab": {}
      },
      "source": [
        ""
      ],
      "execution_count": 0,
      "outputs": []
    },
    {
      "cell_type": "markdown",
      "metadata": {
        "id": "VjgfJUmAQ9jv",
        "colab_type": "text"
      },
      "source": [
        "e. Use your answer to part 1 question 2b to show that you can compute the same mass features in the dataset from the 4-vectors in the dataset."
      ]
    },
    {
      "cell_type": "code",
      "metadata": {
        "id": "9vPsBx4PRQqr",
        "colab_type": "code",
        "colab": {}
      },
      "source": [
        ""
      ],
      "execution_count": 0,
      "outputs": []
    }
  ]
}